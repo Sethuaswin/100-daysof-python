{
 "cells": [
  {
   "cell_type": "markdown",
   "metadata": {},
   "source": [
    "# <center>Principles of Web Design </center>"
   ]
  },
  {
   "cell_type": "markdown",
   "metadata": {},
   "source": [
    "## Overview\n",
    "\n",
    "* Color Theory\n",
    "* Typogrpahy\n",
    "* User Interface Design\n",
    "* User Experience Design"
   ]
  },
  {
   "cell_type": "markdown",
   "metadata": {},
   "source": [
    "---\n",
    "### 1. Undersdanding The Color Theory"
   ]
  },
  {
   "cell_type": "markdown",
   "metadata": {},
   "source": [
    "Be aware of the Predominent Color Pallette\n",
    ">   * Red - Love, Energy, Intensity\n",
    ">       * Car Advert\n",
    ">   * Yellow - Joy, Intellect, Attention\n",
    ">       * Attention Grapping\n",
    ">   * Green - Freshness, Growth, Safety\n",
    ">       * Grocery Companies \n",
    ">   * Blue - Stabiliy, Trust, Serenity\n",
    ">        * Financial Companies Money dealing company\n",
    ">   * Purple - Riyalty, Wealth, Feminnity \n",
    ">       * Payday Loan Companies"
   ]
  },
  {
   "cell_type": "markdown",
   "metadata": {},
   "source": [
    "#### Analogous Colour palatte\n",
    "\n",
    "<img src=\"https://th.bing.com/th/id/OIP.YdT6lJbnWAvNy9Aud7gqIAHaHa?rs=1&pid=ImgDetMain\" width=\"300\">"
   ]
  },
  {
   "cell_type": "markdown",
   "metadata": {},
   "source": [
    "Good for Navigation bar, body of the website Logo Background\n",
    "\n",
    "Not good for standing out - Clashing or complementing coclor pallattes - Pop out"
   ]
  },
  {
   "cell_type": "markdown",
   "metadata": {},
   "source": [
    "[colorhunt.co](https://colorhunt.co/) - For choosing good color pallatte"
   ]
  },
  {
   "cell_type": "markdown",
   "metadata": {},
   "source": [
    "---\n",
    "### 2. Understanding the Typography the Font and it's type"
   ]
  },
  {
   "cell_type": "markdown",
   "metadata": {},
   "source": [
    "* Serif Family - Feet at the font\n",
    "    * Serious, Authorative, littile bit older\n",
    "    * Letter head for legal company, Archetectural \n",
    "    * Stable, Treditional\n",
    "* San-Serifs - No feet right angle at the end\n",
    "    * Friendly, Appraochable, Novel\n",
    "    * Sensible, Simple, Straightforward\n",
    "    * common in startups\n",
    "    * Body of the website in sales pitch\n",
    "\n",
    "* Two fonts in a website\n",
    "\n",
    "---"
   ]
  },
  {
   "cell_type": "markdown",
   "metadata": {},
   "source": [
    "### User Interface Design"
   ]
  },
  {
   "cell_type": "markdown",
   "metadata": {},
   "source": [
    "1. Hierarchy\n",
    "2. Size\n",
    "3. Layout\n",
    "4. Alignment\n",
    "5. White space\n",
    "6. Audience\n",
    "\n",
    "---"
   ]
  },
  {
   "cell_type": "markdown",
   "metadata": {},
   "source": [
    "### User Experience Design\n",
    "\n",
    "UX - Invisible, Intutive\n",
    "\n",
    "* Simplicity\n",
    "* Consistency\n",
    "* Reading Patterns\n",
    "    * F - Pattern\n",
    "    * Z - Pattern\n",
    "* All Platform Design\n",
    "    * Desktop\n",
    "    * Tablet\n",
    "    * Mobile\n",
    "* Don't Use Your Powers for Evil\n",
    "    * Dark Pattern"
   ]
  }
 ],
 "metadata": {
  "language_info": {
   "name": "python"
  }
 },
 "nbformat": 4,
 "nbformat_minor": 2
}
